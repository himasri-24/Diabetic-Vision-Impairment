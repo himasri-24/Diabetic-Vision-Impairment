{
  "nbformat": 4,
  "nbformat_minor": 0,
  "metadata": {
    "colab": {
      "provenance": [],
      "authorship_tag": "ABX9TyOfDCtlUbz6UVvrzG30WUsf",
      "include_colab_link": true
    },
    "kernelspec": {
      "name": "python3",
      "display_name": "Python 3"
    },
    "language_info": {
      "name": "python"
    }
  },
  "cells": [
    {
      "cell_type": "markdown",
      "metadata": {
        "id": "view-in-github",
        "colab_type": "text"
      },
      "source": [
        "<a href=\"https://colab.research.google.com/github/himasri-24/Diabetic-Vision-Impairment/blob/main/vgg.ipynb\" target=\"_parent\"><img src=\"https://colab.research.google.com/assets/colab-badge.svg\" alt=\"Open In Colab\"/></a>"
      ]
    },
    {
      "cell_type": "code",
      "source": [
        "import tensorflow as tf\n",
        "from tensorflow import keras\n",
        "from tensorflow.keras import layers, callbacks\n",
        "from tensorflow.keras.applications import VGG16\n",
        "from tensorflow.keras.preprocessing.image import ImageDataGenerator\n",
        "import os\n",
        "import zipfile\n",
        "import matplotlib.pyplot as plt\n",
        "\n",
        "# Define constants\n",
        "IMG_SIZE = (128, 128)  # Reduced image size for faster training\n",
        "BATCH_SIZE = 16  # Reduced batch size to lower memory usage\n",
        "EPOCHS = 5  # Reduced epochs to speed up training\n",
        "ZIP_FILE_PATH = \"/content/archive.zip\"  # Update this path to your ZIP file\n",
        "EXTRACTED_FOLDER = \"/content/extracted_images\"  # Folder where images will be extracted\n",
        "\n",
        "# Check if the ZIP file exists and is valid\n",
        "if not os.path.exists(ZIP_FILE_PATH):\n",
        "    raise FileNotFoundError(f\"ZIP file '{ZIP_FILE_PATH}' not found. Please upload the correct file.\")\n",
        "\n",
        "try:\n",
        "    with zipfile.ZipFile(ZIP_FILE_PATH, 'r') as zip_ref:\n",
        "        zip_ref.extractall(EXTRACTED_FOLDER)\n",
        "except zipfile.BadZipFile:\n",
        "    raise zipfile.BadZipFile(f\"Error: '{ZIP_FILE_PATH}' is not a valid ZIP file. Please check the file format.\")\n",
        "\n",
        "# Update dataset path\n",
        "DATASET_PATH = EXTRACTED_FOLDER\n",
        "\n",
        "# Check if dataset path exists\n",
        "if not os.path.exists(DATASET_PATH) or not os.path.isdir(DATASET_PATH):\n",
        "    raise FileNotFoundError(f\"Dataset path '{DATASET_PATH}' not found. Please check the extraction process.\")\n",
        "\n",
        "# Set up data generators\n",
        "datagen = ImageDataGenerator(\n",
        "    rescale=1./255,\n",
        "    validation_split=0.2  # 20% validation split\n",
        ")\n",
        "\n",
        "train_generator = datagen.flow_from_directory(\n",
        "    DATASET_PATH,\n",
        "    target_size=IMG_SIZE,\n",
        "    batch_size=BATCH_SIZE,\n",
        "    class_mode='categorical',\n",
        "    subset='training'  # Use 80% for training\n",
        ")\n",
        "\n",
        "val_generator = datagen.flow_from_directory(\n",
        "    DATASET_PATH,\n",
        "    target_size=IMG_SIZE,\n",
        "    batch_size=BATCH_SIZE,\n",
        "    class_mode='categorical',\n",
        "    subset='validation'  # Use 20% for validation\n",
        ")\n",
        "\n",
        "# Calculate steps per epoch and validation steps\n",
        "steps_per_epoch = train_generator.samples // BATCH_SIZE\n",
        "validation_steps = val_generator.samples // BATCH_SIZE\n",
        "\n",
        "# Load pre-trained VGG16 model without the top layer\n",
        "base_model = VGG16(weights='imagenet', include_top=False, input_shape=(128, 128, 3))\n",
        "\n",
        "# Freeze the pre-trained layers to prevent them from being updated during training\n",
        "for layer in base_model.layers:\n",
        "    layer.trainable = False\n",
        "\n",
        "# Build the model\n",
        "model = keras.Sequential([\n",
        "    base_model,\n",
        "    layers.Flatten(),\n",
        "    layers.Dense(128, activation='relu'),  # Fully connected layer\n",
        "    layers.Dropout(0.5),  # Dropout to reduce overfitting\n",
        "    layers.Dense(5, activation='softmax')  # 5 classes (adjust based on your dataset)\n",
        "])\n",
        "\n",
        "# Compile the model\n",
        "model.compile(optimizer='adam',\n",
        "              loss='categorical_crossentropy',\n",
        "              metrics=['accuracy'])\n",
        "\n",
        "# Add Early Stopping to prevent unnecessary training\n",
        "early_stopping = callbacks.EarlyStopping(monitor='val_loss', patience=3, restore_best_weights=True)\n",
        "\n",
        "# Train the model with calculated steps_per_epoch and validation_steps\n",
        "history_vgg16 = model.fit(\n",
        "    train_generator,\n",
        "    validation_data=val_generator,\n",
        "    epochs=EPOCHS,\n",
        "    steps_per_epoch=steps_per_epoch,  # Automatically calculated\n",
        "    validation_steps=validation_steps,  # Automatically calculated\n",
        "    callbacks=[early_stopping]\n",
        ")\n",
        "\n",
        "# Save the model\n",
        "model.save('diabetic_retinopathy_vgg16.h5')\n",
        "\n",
        "print(\"Model training complete and saved as 'diabetic_retinopathy_vgg16.h5'\")\n",
        "\n"
      ],
      "metadata": {
        "colab": {
          "base_uri": "https://localhost:8080/"
        },
        "id": "DnzpeSsf8J-g",
        "outputId": "2f2eed18-8992-41ac-c8dd-ce6beca9a30e"
      },
      "execution_count": null,
      "outputs": [
        {
          "output_type": "stream",
          "name": "stdout",
          "text": [
            "Found 2200 images belonging to 5 classes.\n",
            "Found 550 images belonging to 5 classes.\n",
            "Epoch 1/5\n",
            "\u001b[1m137/137\u001b[0m \u001b[32m━━━━━━━━━━━━━━━━━━━━\u001b[0m\u001b[37m\u001b[0m \u001b[1m459s\u001b[0m 3s/step - accuracy: 0.5329 - loss: 1.3607 - val_accuracy: 0.6287 - val_loss: 1.0119\n",
            "Epoch 2/5\n",
            "\u001b[1m137/137\u001b[0m \u001b[32m━━━━━━━━━━━━━━━━━━━━\u001b[0m\u001b[37m\u001b[0m \u001b[1m142s\u001b[0m 1s/step - accuracy: 0.3750 - loss: 1.3327 - val_accuracy: 0.6305 - val_loss: 1.0166\n",
            "Epoch 3/5\n",
            "\u001b[1m137/137\u001b[0m \u001b[32m━━━━━━━━━━━━━━━━━━━━\u001b[0m\u001b[37m\u001b[0m \u001b[1m478s\u001b[0m 3s/step - accuracy: 0.5909 - loss: 1.0782 - val_accuracy: 0.6397 - val_loss: 0.9566\n",
            "Epoch 4/5\n",
            "\u001b[1m137/137\u001b[0m \u001b[32m━━━━━━━━━━━━━━━━━━━━\u001b[0m\u001b[37m\u001b[0m \u001b[1m142s\u001b[0m 1s/step - accuracy: 0.5625 - loss: 1.2263 - val_accuracy: 0.6415 - val_loss: 0.9555\n",
            "Epoch 5/5\n",
            "\u001b[1m137/137\u001b[0m \u001b[32m━━━━━━━━━━━━━━━━━━━━\u001b[0m\u001b[37m\u001b[0m \u001b[1m456s\u001b[0m 3s/step - accuracy: 0.6130 - loss: 1.0317 - val_accuracy: 0.6507 - val_loss: 0.9397\n"
          ]
        },
        {
          "output_type": "stream",
          "name": "stderr",
          "text": [
            "WARNING:absl:You are saving your model as an HDF5 file via `model.save()` or `keras.saving.save_model(model)`. This file format is considered legacy. We recommend using instead the native Keras format, e.g. `model.save('my_model.keras')` or `keras.saving.save_model(model, 'my_model.keras')`. \n"
          ]
        },
        {
          "output_type": "stream",
          "name": "stdout",
          "text": [
            "Model training complete and saved as 'diabetic_retinopathy_vgg16.h5'\n"
          ]
        }
      ]
    }
  ]
}
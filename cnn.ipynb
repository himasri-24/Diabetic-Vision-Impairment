{
  "nbformat": 4,
  "nbformat_minor": 0,
  "metadata": {
    "colab": {
      "provenance": [],
      "authorship_tag": "ABX9TyNtCFQVm02kwJ8v1hAElNJ/",
      "include_colab_link": true
    },
    "kernelspec": {
      "name": "python3",
      "display_name": "Python 3"
    },
    "language_info": {
      "name": "python"
    }
  },
  "cells": [
    {
      "cell_type": "markdown",
      "metadata": {
        "id": "view-in-github",
        "colab_type": "text"
      },
      "source": [
        "<a href=\"https://colab.research.google.com/github/himasri-24/Diabetic-Vision-Impairment/blob/main/cnn.ipynb\" target=\"_parent\"><img src=\"https://colab.research.google.com/assets/colab-badge.svg\" alt=\"Open In Colab\"/></a>"
      ]
    },
    {
      "cell_type": "code",
      "source": [
        "\n",
        "import tensorflow as tf\n",
        "from tensorflow import keras\n",
        "from tensorflow.keras import layers, callbacks\n",
        "from tensorflow.keras.preprocessing.image import ImageDataGenerator\n",
        "import os\n",
        "import zipfile\n",
        "\n",
        "# Define constants\n",
        "IMG_SIZE = (128, 128)  # Image size\n",
        "BATCH_SIZE = 16  # Batch size\n",
        "EPOCHS = 5  # Number of epochs\n",
        "ZIP_FILE_PATH = \"/content/archive.zip\"  # Corrected file path\n",
        "EXTRACTED_FOLDER = \"/mnt/data/extracted_images\"  # Folder where images will be extracted\n",
        "\n",
        "# Ensure the ZIP file exists before proceeding\n",
        "if not os.path.exists(ZIP_FILE_PATH):\n",
        "    raise FileNotFoundError(f\"ZIP file '{ZIP_FILE_PATH}' not found. Please upload the correct file.\")\n",
        "\n",
        "try:\n",
        "    with zipfile.ZipFile(ZIP_FILE_PATH, 'r') as zip_ref:\n",
        "        zip_ref.extractall(EXTRACTED_FOLDER)\n",
        "except zipfile.BadZipFile:\n",
        "    raise zipfile.BadZipFile(f\"Error: '{ZIP_FILE_PATH}' is not a valid ZIP file. Please check the file format.\")\n",
        "\n",
        "# Update dataset path\n",
        "DATASET_PATH = EXTRACTED_FOLDER\n",
        "\n",
        "# Ensure the dataset directory exists\n",
        "if not os.path.exists(DATASET_PATH) or not os.path.isdir(DATASET_PATH):\n",
        "    raise FileNotFoundError(f\"Dataset path '{DATASET_PATH}' not found. Please check the extraction process.\")\n",
        "\n",
        "# Debugging: Print dataset directory structure\n",
        "print(\"Dataset directory structure:\", os.listdir(DATASET_PATH))\n",
        "\n",
        "# Set up data generators\n",
        "datagen = ImageDataGenerator(\n",
        "    rescale=1./255,\n",
        "    validation_split=0.2\n",
        ")\n",
        "\n",
        "train_generator = datagen.flow_from_directory(\n",
        "    DATASET_PATH,\n",
        "    target_size=IMG_SIZE,\n",
        "    batch_size=BATCH_SIZE,\n",
        "    class_mode='categorical',\n",
        "    subset='training'\n",
        ")\n",
        "\n",
        "val_generator = datagen.flow_from_directory(\n",
        "    DATASET_PATH,\n",
        "    target_size=IMG_SIZE,\n",
        "    batch_size=BATCH_SIZE,\n",
        "    class_mode='categorical',\n",
        "    subset='validation'\n",
        ")\n",
        "\n",
        "# Automatically determine steps_per_epoch & validation_steps\n",
        "steps_per_epoch = len(train_generator)\n",
        "validation_steps = len(val_generator)\n",
        "print(f\"Steps per epoch: {steps_per_epoch}, Validation steps: {validation_steps}\")\n",
        "\n",
        "# Build a custom CNN model\n",
        "model = keras.Sequential([\n",
        "    layers.Conv2D(32, (3,3), activation='relu', input_shape=(128, 128, 3)),\n",
        "    layers.MaxPooling2D(2,2),\n",
        "\n",
        "    layers.Conv2D(64, (3,3), activation='relu'),\n",
        "    layers.MaxPooling2D(2,2),\n",
        "\n",
        "    layers.Conv2D(128, (3,3), activation='relu'),\n",
        "    layers.MaxPooling2D(2,2),\n",
        "\n",
        "    layers.Flatten(),\n",
        "    layers.Dense(128, activation='relu'),\n",
        "    layers.Dropout(0.5),\n",
        "    layers.Dense(train_generator.num_classes, activation='softmax')  # Dynamically set output classes\n",
        "])\n",
        "\n",
        "# Compile the model\n",
        "model.compile(optimizer='adam',\n",
        "              loss='categorical_crossentropy',\n",
        "              metrics=['accuracy'])\n",
        "\n",
        "# Add Early Stopping to prevent unnecessary training\n",
        "early_stopping = callbacks.EarlyStopping(monitor='val_loss', patience=3, restore_best_weights=True)\n",
        "\n",
        "# Train the model\n",
        "model.fit(train_generator,\n",
        "          validation_data=val_generator,\n",
        "          epochs=EPOCHS,\n",
        "          steps_per_epoch=steps_per_epoch,\n",
        "          validation_steps=validation_steps,\n",
        "          callbacks=[early_stopping])\n",
        "\n",
        "# Save the model\n",
        "model.save('diabetic_retinopathy_cnn.h5')\n",
        "\n",
        "print(\"Model training complete and saved as 'diabetic_retinopathy_cnn.h5'\")\n"
      ],
      "metadata": {
        "colab": {
          "base_uri": "https://localhost:8080/"
        },
        "id": "GZo_7_dpTLDG",
        "outputId": "8406914b-1021-441c-c987-594b75185f66"
      },
      "execution_count": null,
      "outputs": [
        {
          "output_type": "stream",
          "name": "stdout",
          "text": [
            "Dataset directory structure: ['Proliferate DR', 'Severe DR', 'Mild DR', 'Healthy', 'Moderate DR']\n",
            "Found 2200 images belonging to 5 classes.\n",
            "Found 550 images belonging to 5 classes.\n",
            "Steps per epoch: 138, Validation steps: 35\n"
          ]
        },
        {
          "output_type": "stream",
          "name": "stderr",
          "text": [
            "/usr/local/lib/python3.11/dist-packages/keras/src/layers/convolutional/base_conv.py:107: UserWarning: Do not pass an `input_shape`/`input_dim` argument to a layer. When using Sequential models, prefer using an `Input(shape)` object as the first layer in the model instead.\n",
            "  super().__init__(activity_regularizer=activity_regularizer, **kwargs)\n",
            "/usr/local/lib/python3.11/dist-packages/keras/src/trainers/data_adapters/py_dataset_adapter.py:121: UserWarning: Your `PyDataset` class should call `super().__init__(**kwargs)` in its constructor. `**kwargs` can include `workers`, `use_multiprocessing`, `max_queue_size`. Do not pass these arguments to `fit()`, as they will be ignored.\n",
            "  self._warn_if_super_not_called()\n"
          ]
        },
        {
          "output_type": "stream",
          "name": "stdout",
          "text": [
            "Epoch 1/5\n",
            "\u001b[1m138/138\u001b[0m \u001b[32m━━━━━━━━━━━━━━━━━━━━\u001b[0m\u001b[37m\u001b[0m \u001b[1m81s\u001b[0m 573ms/step - accuracy: 0.4762 - loss: 1.3413 - val_accuracy: 0.6382 - val_loss: 0.9513\n",
            "Epoch 2/5\n",
            "\u001b[1m138/138\u001b[0m \u001b[32m━━━━━━━━━━━━━━━━━━━━\u001b[0m\u001b[37m\u001b[0m \u001b[1m75s\u001b[0m 519ms/step - accuracy: 0.6228 - loss: 1.0296 - val_accuracy: 0.6782 - val_loss: 0.9148\n",
            "Epoch 3/5\n",
            "\u001b[1m138/138\u001b[0m \u001b[32m━━━━━━━━━━━━━━━━━━━━\u001b[0m\u001b[37m\u001b[0m \u001b[1m71s\u001b[0m 512ms/step - accuracy: 0.6503 - loss: 0.9410 - val_accuracy: 0.6745 - val_loss: 0.8675\n",
            "Epoch 4/5\n",
            "\u001b[1m138/138\u001b[0m \u001b[32m━━━━━━━━━━━━━━━━━━━━\u001b[0m\u001b[37m\u001b[0m \u001b[1m73s\u001b[0m 526ms/step - accuracy: 0.6566 - loss: 0.9406 - val_accuracy: 0.6855 - val_loss: 0.8571\n",
            "Epoch 5/5\n",
            "\u001b[1m138/138\u001b[0m \u001b[32m━━━━━━━━━━━━━━━━━━━━\u001b[0m\u001b[37m\u001b[0m \u001b[1m69s\u001b[0m 500ms/step - accuracy: 0.6774 - loss: 0.8897 - val_accuracy: 0.7036 - val_loss: 0.8428\n"
          ]
        },
        {
          "output_type": "stream",
          "name": "stderr",
          "text": [
            "WARNING:absl:You are saving your model as an HDF5 file via `model.save()` or `keras.saving.save_model(model)`. This file format is considered legacy. We recommend using instead the native Keras format, e.g. `model.save('my_model.keras')` or `keras.saving.save_model(model, 'my_model.keras')`. \n"
          ]
        },
        {
          "output_type": "stream",
          "name": "stdout",
          "text": [
            "Model training complete and saved as 'diabetic_retinopathy_cnn.h5'\n"
          ]
        }
      ]
    },
    {
      "cell_type": "markdown",
      "metadata": {
        "id": "9326d913"
      },
      "source": [
        "You can download the saved model file `diabetic_retinopathy_cnn.h5` using the following code cell:"
      ]
    }
  ]
}